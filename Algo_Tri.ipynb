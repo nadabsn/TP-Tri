{
 "cells": [
  {
   "cell_type": "markdown",
   "metadata": {},
   "source": [
    "*Université de Sousse Institut Supérieur d’Informatique et  des Techniques de  Communication  d’Hammam  Sousse - Cycle Ingénieur en Téléinformatique*\n",
    "***"
   ]
  },
  {
   "cell_type": "markdown",
   "metadata": {},
   "source": [
    "# <center><span style=\"color:#2F2F3F \">Projet - Algorithmique avancée -Thème: Analyse & Complexité des Algorithmes</span></center>\n",
    "### <center><span style=\"color:#A5B7D5 \">Réalisé par: Nada Ben Slimen</span></center>\n",
    "***"
   ]
  },
  {
   "cell_type": "markdown",
   "metadata": {},
   "source": [
    "## Importation des bibliothèques:"
   ]
  },
  {
   "cell_type": "code",
   "execution_count": 1,
   "metadata": {},
   "outputs": [],
   "source": [
    "from numpy import random as rd\n",
    "from datetime import *\n",
    "import matplotlib.pyplot as plt"
   ]
  },
  {
   "cell_type": "markdown",
   "metadata": {},
   "source": [
    "## Intialisation des variables à utiliser:"
   ]
  },
  {
   "cell_type": "code",
   "execution_count": 2,
   "metadata": {},
   "outputs": [],
   "source": [
    "nbr_N = [] # Tab de nombre des entiers N \n",
    "t0 = datetime.now() # t avant l'execution\n",
    "te_b = [] # Tab Temps_CPU pour Tri à bulle\n",
    "te_r = [] # Tab Temps_CPU pour Tri Rapide\n",
    "te_i = [] # Tab Temps_CPU pour Tri par insertion\n",
    "te_f = [] # Tab Temps_CPU pour Tri fusion\n",
    "te_s = [] # Tab des temps d'execution pour Tri par sélection"
   ]
  },
  {
   "cell_type": "markdown",
   "metadata": {},
   "source": [
    "## Code de la fonction du tri par sélection"
   ]
  },
  {
   "cell_type": "code",
   "execution_count": 3,
   "metadata": {},
   "outputs": [],
   "source": [
    "def tri_selection(tab):\n",
    "\tfor i in range(len(tab)):\n",
    "\t\ti_min = i\n",
    "\t\tfor k in range(i+1,len(tab)):\n",
    "\t\t\tif (tab[k] < tab[i_min]):\n",
    "\t\t\t\ti_min = k\n",
    "\t\tx = tab[i]\n",
    "\t\ttab[i]= tab[i_min]\n",
    "\t\ttab[i_min]=x\n",
    "    #print(\"tab devient aprés tri par selection:+\",tab)\n",
    "\te = datetime.now() # temps aprés l'execution\n",
    "\tte = e-t0 # difference entre temp de début et temp de fin\n",
    "\tsec = te.total_seconds() # conversion du temp de difference en seconde\n",
    "\tte_s.append(sec) # ajouter le temps en s au tableau approprié\n"
   ]
  },
  {
   "cell_type": "markdown",
   "metadata": {},
   "source": [
    "## Code de la fontion du tri à bulle"
   ]
  },
  {
   "cell_type": "code",
   "execution_count": 4,
   "metadata": {},
   "outputs": [],
   "source": [
    "def tri_bulle (tab):\n",
    "\tpermut = True\n",
    "\tl = len(tab)-1\n",
    "\twhile (permut):\n",
    "\t\tpermut = False\n",
    "\t\tfor i in range(0,l):\n",
    "\t\t\tif (tab[i] > tab[i+1]):\n",
    "\t\t\t\tx=tab[i]\n",
    "\t\t\t\ttab[i]=tab[i+1]\n",
    "\t\t\t\ttab[i+1]=x\n",
    "\t\t\t\tpermut=True\n",
    "\t\tl-=1\n",
    "    #print(\"tab devient aprés tri à bulle:+\",tab)\n",
    "\te = datetime.now() # temps aprés l'execution\n",
    "\tte = e-t0 # difference entre temp de début et temp de fin\n",
    "\tsec = te.total_seconds() # conversion du temp de difference en seconde\n",
    "\tte_b.append(sec) # ajouter le temps en s au tableau approprié\n"
   ]
  },
  {
   "cell_type": "markdown",
   "metadata": {},
   "source": [
    "## Code de la fonction du tri par insertion"
   ]
  },
  {
   "cell_type": "code",
   "execution_count": 5,
   "metadata": {},
   "outputs": [],
   "source": [
    "def tri_insertion (tab):\n",
    "\tl=len(tab)-1\n",
    "\tfor i in range(0,l) :\n",
    "\t\tx = tab[i+1]\n",
    "\t\tk=i\n",
    "\t\twhile((tab[k] > x ) and (k>=0) ) :\n",
    "\t\t\ttab[k+1] = tab[k]\n",
    "\t\t\tk-= 1\n",
    "\t\ttab[k+1] = x\n",
    "\t#print(\"tab devient aprés tri par insertion:+\",tab)\n",
    "\te = datetime.now() # temps aprés l'execution\n",
    "\tte = e-t0 # difference entre temp de début et temp de fin\n",
    "\tsec = te.total_seconds() # conversion du temp de difference en seconde\n",
    "\tte_i.append(sec) # ajouter le temps en s au tableau approprié"
   ]
  },
  {
   "cell_type": "markdown",
   "metadata": {},
   "source": [
    "## Code de la fonction du tri fusion"
   ]
  },
  {
   "cell_type": "code",
   "execution_count": 6,
   "metadata": {},
   "outputs": [],
   "source": [
    "def tri_fusion(tb):\n",
    "\tdef Tri_fusion(tab):\n",
    "\t\t\n",
    "\t\tif len(tab)>1:\n",
    "\t\t\tmil = len(tab)//2\n",
    "\t\t\tgauche = tab[:mil]\n",
    "\t\t\tdroite = tab[mil:]\n",
    "\n",
    "\t\t\tTri_fusion(gauche)\n",
    "\t\t\tTri_fusion(droite)\n",
    "\n",
    "\t\t\ti=0\n",
    "\t\t\tj=0\n",
    "\t\t\tk=0\n",
    "\t\t\twhile i < len(gauche) and j < len(droite):\n",
    "\t\t\t\tif gauche[i] <= droite[j]:\n",
    "\t\t\t\t\ttab[k]=gauche[i]\n",
    "\t\t\t\t\ti=i+1\n",
    "\t\t\t\telse:\n",
    "\t\t\t\t\ttab[k]=droite[j]\n",
    "\t\t\t\t\tj=j+1\n",
    "\t\t\t\tk=k+1\n",
    "\n",
    "\t\t\twhile i < len(gauche):\n",
    "\t\t\t\ttab[k]=gauche[i]\n",
    "\t\t\t\ti=i+1\n",
    "\t\t\t\tk=k+1\n",
    "\n",
    "\t\t\twhile j < len(droite):\n",
    "\t\t\t\ttab[k]=droite[j]\n",
    "\t\t\t\tj=j+1\n",
    "\t\t\t\tk=k+1\n",
    "\te = datetime.now() # temps aprés l'execution\n",
    "\tte = e-t0 # difference entre temp de début et temp de fin\n",
    "\tsec = te.total_seconds() # conversion du temp de difference en seconde\n",
    "\tte_f.append(sec) # ajouter le temps en s au tableau approprié"
   ]
  },
  {
   "cell_type": "markdown",
   "metadata": {},
   "source": [
    "## Code de la fonction du tri rapide"
   ]
  },
  {
   "cell_type": "code",
   "execution_count": 7,
   "metadata": {},
   "outputs": [],
   "source": [
    "def tri_rapide(tab,fin,deb=0):\n",
    "\n",
    "    def Tri_rapide(tab,fin,deb=0):\n",
    "\n",
    "        def div(tab, deb, fin):\n",
    "            i = (deb-1)\n",
    "            pivot = tab[fin]\n",
    "\n",
    "            for j in range(deb, fin):\n",
    "\n",
    "                if tab[j] <= pivot:\n",
    "\n",
    "                    i = i+1\n",
    "                    tab[i], tab[j] = tab[j], tab[i]\n",
    "\n",
    "            tab[i+1], tab[fin] = tab[fin], tab[i+1]\n",
    "            return (i+1)\n",
    "\n",
    "        if len(tab) == 1:\n",
    "            return tab\n",
    "        if deb < fin:\n",
    "            pivot = div(tab, deb, fin)\n",
    "            Tri_rapide(tab, deb, pivot-1)\n",
    "            Tri_rapide(tab, pivot+1, fin)\n",
    "    e = datetime.now() # temps aprés l'execution\n",
    "    te = e-t0 # difference entre temp de début et temp de fin\n",
    "    sec = te.total_seconds() # conversion du temp de difference en seconde\n",
    "    te_r.append(sec) # ajouter le temps en s au tableau approprié\n"
   ]
  },
  {
   "cell_type": "markdown",
   "metadata": {},
   "source": [
    "## Programme principal"
   ]
  },
  {
   "cell_type": "code",
   "execution_count": null,
   "metadata": {},
   "outputs": [],
   "source": [
    "x1=20000\n",
    "xn=100000\n",
    "pas=10000\n",
    "for i in range(x1, xn+1, pas):\n",
    "    nbr_N.append(i)\n",
    "    tab=rd.randint(100, size=(i))\n",
    "    n=len(tab)-1\n",
    "    #tri_rapide(tab,pas)\n",
    "    #tri_selection(tab)\n",
    "    tri_insertion(tab)\n",
    "    #tri_bulle (tab)\n",
    "    #tri_fusion(tab)\n",
    "#print(\"tab de temps d execution rapide:\",te_r)   \n",
    "#print(\"tab de temps d execution selection:\",te_s)   \n",
    "print(\"tab de temps d execution insertion:\",te_i)   \n",
    "#print(\"tab de temps d execution à bulle:\",te_b)   \n",
    "#print(\"tab de temps d execution fusion:\",te_f)   "
   ]
  },
  {
   "cell_type": "markdown",
   "metadata": {},
   "source": [
    "### Figure tri par selection"
   ]
  },
  {
   "cell_type": "code",
   "execution_count": null,
   "metadata": {},
   "outputs": [],
   "source": [
    "\"\"\"\n",
    "plt.figure(figsize=(12,10))\n",
    "plt.plot(nbr_N,te_s,\"blue\")\n",
    "plt.title(\"Tri par Selection\")\n",
    "plt.xlabel(\"N\")\n",
    "plt.ylabel(\"Temps CPU en seconde \")\n",
    "plt.grid()\n",
    "plt.show()\n",
    "\"\"\"\n"
   ]
  },
  {
   "cell_type": "markdown",
   "metadata": {},
   "source": [
    "### Figure tri à Bulle"
   ]
  },
  {
   "cell_type": "code",
   "execution_count": null,
   "metadata": {},
   "outputs": [],
   "source": [
    "\"\"\"\n",
    "plt.figure(figsize=(12,10))\n",
    "plt.plot(nbr_N,te_b,\"red\")\n",
    "plt.title(\"Tri à Bulle\")\n",
    "plt.xlabel(\"N\")\n",
    "plt.ylabel(\"Temps CPU en seconde \")\n",
    "plt.grid()\n",
    "plt.show()\n",
    "\"\"\""
   ]
  },
  {
   "cell_type": "markdown",
   "metadata": {},
   "source": [
    "### Figure Tri par Insertion"
   ]
  },
  {
   "cell_type": "code",
   "execution_count": null,
   "metadata": {},
   "outputs": [],
   "source": [
    "\n",
    "plt.figure(figsize=(12,10))\n",
    "plt.plot(nbr_N,te_i,\"green\")\n",
    "plt.title(\"Tri par Insertion\")\n",
    "plt.xlabel(\"N\")\n",
    "plt.ylabel(\"Temps CPU en seconde \")\n",
    "plt.grid()\n",
    "plt.show()\n"
   ]
  },
  {
   "cell_type": "markdown",
   "metadata": {},
   "source": [
    "### Figure Tri par Fusion"
   ]
  },
  {
   "cell_type": "code",
   "execution_count": null,
   "metadata": {},
   "outputs": [],
   "source": [
    "\n",
    "plt.figure(figsize=(12,10))\n",
    "plt.plot(nbr_N,te_f,\"yellow\")\n",
    "plt.title(\"Tri par Fusion\")\n",
    "plt.xlabel(\"N\")\n",
    "plt.ylabel(\"Temps CPU en seconde \")\n",
    "plt.grid()\n",
    "plt.show()\n"
   ]
  },
  {
   "cell_type": "markdown",
   "metadata": {},
   "source": [
    "### Figure Tri Rapide"
   ]
  },
  {
   "cell_type": "code",
   "execution_count": null,
   "metadata": {},
   "outputs": [],
   "source": [
    "\n",
    "plt.figure(figsize=(12,10))\n",
    "plt.plot(nbr_N,te_r,\"cyan\")\n",
    "plt.title(\"Tri Rapide\")\n",
    "plt.xlabel(\"N\")\n",
    "plt.ylabel(\"Temps CPU en seconde \")\n",
    "plt.grid()\n",
    "plt.show()\n"
   ]
  },
  {
   "cell_type": "code",
   "execution_count": null,
   "metadata": {},
   "outputs": [],
   "source": []
  }
 ],
 "metadata": {
  "kernelspec": {
   "display_name": "Python 3",
   "language": "python",
   "name": "python3"
  },
  "language_info": {
   "codemirror_mode": {
    "name": "ipython",
    "version": 3
   },
   "file_extension": ".py",
   "mimetype": "text/x-python",
   "name": "python",
   "nbconvert_exporter": "python",
   "pygments_lexer": "ipython3",
   "version": "3.8.3"
  }
 },
 "nbformat": 4,
 "nbformat_minor": 4
}
